{
 "cells": [
  {
   "cell_type": "markdown",
   "id": "d02f1359",
   "metadata": {},
   "source": [
    "## OpenCV Doc Link  https://docs.opencv.org/4.x/d9/d61/tutorial_py_morphological_ops.html"
   ]
  },
  {
   "cell_type": "code",
   "execution_count": 1,
   "id": "e5f7678f",
   "metadata": {},
   "outputs": [],
   "source": [
    "# import libraries\n",
    "import cv2\n",
    "import numpy as np\n",
    "import warnings\n",
    "warnings.filterwarnings('ignore')"
   ]
  },
  {
   "cell_type": "code",
   "execution_count": 2,
   "id": "981c258a",
   "metadata": {},
   "outputs": [],
   "source": [
    "# read image and convert to gray\n",
    "img=cv2.imread('white_text.jpg')\n",
    "img=cv2.cvtColor(img,cv2.COLOR_BGR2GRAY)"
   ]
  },
  {
   "cell_type": "code",
   "execution_count": 3,
   "id": "de5e7736",
   "metadata": {},
   "outputs": [],
   "source": [
    "# Thresholding\n",
    "f,thresh_img=cv2.threshold(img,120,255,cv2.THRESH_BINARY)"
   ]
  },
  {
   "cell_type": "code",
   "execution_count": 4,
   "id": "72a7eb87",
   "metadata": {},
   "outputs": [],
   "source": [
    "# Make Kernals\n",
    "kernel_1 = cv2.getStructuringElement(cv2.MORPH_RECT,(5,5))\n",
    "kernel_2 = cv2.getStructuringElement(cv2.MORPH_ELLIPSE,(5,5))\n",
    "kernel_3 = cv2.getStructuringElement(cv2.MORPH_CROSS,(5,5))"
   ]
  },
  {
   "cell_type": "code",
   "execution_count": 5,
   "id": "0ba4265f",
   "metadata": {},
   "outputs": [],
   "source": [
    "# Make Dilation\n",
    "dilation1 = cv2.dilate(img,kernel_1,iterations = 1)\n",
    "dilation2 = cv2.dilate(img,kernel_2,iterations = 1)\n",
    "dilation3 = cv2.dilate(img,kernel_3,iterations = 1)"
   ]
  },
  {
   "cell_type": "code",
   "execution_count": 6,
   "id": "6d82618f",
   "metadata": {},
   "outputs": [],
   "source": [
    "# Show Dilation img\n",
    "cv2.imshow('Dilation1 image',dilation1)\n",
    "cv2.imshow('Dilation2 image',dilation2)\n",
    "cv2.imshow('Dilation3 image',dilation3)\n",
    "cv2.waitKey()\n",
    "cv2.destroyAllWindows()"
   ]
  },
  {
   "cell_type": "code",
   "execution_count": 7,
   "id": "37cd188f",
   "metadata": {},
   "outputs": [],
   "source": [
    "# Make Erosion\n",
    "erosion1 = cv2.erode(img,kernel_1,iterations = 1)\n",
    "erosion2 = cv2.erode(img,kernel_2,iterations = 1)\n",
    "erosion3 = cv2.erode(img,kernel_3,iterations = 1)"
   ]
  },
  {
   "cell_type": "code",
   "execution_count": 8,
   "id": "bcb9c3e7",
   "metadata": {},
   "outputs": [],
   "source": [
    "# Show Erosion img\n",
    "cv2.imshow('Erosion1 image',erosion1)\n",
    "cv2.imshow('Erosion2 image',erosion2)\n",
    "cv2.imshow('Erosion3 image',erosion3)\n",
    "cv2.waitKey()\n",
    "cv2.destroyAllWindows()"
   ]
  },
  {
   "cell_type": "code",
   "execution_count": 9,
   "id": "91d544f0",
   "metadata": {},
   "outputs": [],
   "source": [
    "# Make opening\n",
    "opening1 = cv2.morphologyEx(img, cv2.MORPH_OPEN, kernel_1)\n",
    "opening2 = cv2.morphologyEx(img, cv2.MORPH_OPEN, kernel_2)\n",
    "opening3 = cv2.morphologyEx(img, cv2.MORPH_OPEN, kernel_3)"
   ]
  },
  {
   "cell_type": "code",
   "execution_count": 10,
   "id": "8af4aab9",
   "metadata": {},
   "outputs": [],
   "source": [
    "# Show Opening img\n",
    "cv2.imshow('Opening1 image',opening1)\n",
    "cv2.imshow('Opening2 image',opening2)\n",
    "cv2.imshow('Opening3 image',opening3)\n",
    "cv2.waitKey()\n",
    "cv2.destroyAllWindows()"
   ]
  },
  {
   "cell_type": "code",
   "execution_count": 11,
   "id": "d0f98ea8",
   "metadata": {},
   "outputs": [],
   "source": [
    "# Make closing\n",
    "closing1 = cv2.morphologyEx(img, cv2.MORPH_CLOSE, kernel_1)\n",
    "closing2 = cv2.morphologyEx(img, cv2.MORPH_CLOSE, kernel_2)\n",
    "closing3 = cv2.morphologyEx(img, cv2.MORPH_CLOSE, kernel_3)"
   ]
  },
  {
   "cell_type": "code",
   "execution_count": 12,
   "id": "ecb6dc53",
   "metadata": {},
   "outputs": [],
   "source": [
    "# Show Closing img\n",
    "cv2.imshow('Closing1 image',closing1)\n",
    "cv2.imshow('Closing2 image',closing2)\n",
    "cv2.imshow('Closing3 image',closing3)\n",
    "cv2.waitKey()\n",
    "cv2.destroyAllWindows()"
   ]
  },
  {
   "cell_type": "code",
   "execution_count": 13,
   "id": "5dd772dd",
   "metadata": {},
   "outputs": [],
   "source": [
    "# Make Gradient\n",
    "g1 = cv2.morphologyEx(img, cv2.MORPH_GRADIENT, kernel_1)\n",
    "g2 = cv2.morphologyEx(img, cv2.MORPH_GRADIENT, kernel_2)\n",
    "g3 = cv2.morphologyEx(img, cv2.MORPH_GRADIENT, kernel_3)"
   ]
  },
  {
   "cell_type": "code",
   "execution_count": 14,
   "id": "c92fed3f",
   "metadata": {},
   "outputs": [],
   "source": [
    "# Show Gradient img\n",
    "cv2.imshow('Gradient1 image',g1)\n",
    "cv2.imshow('Gradient2 image',g2)\n",
    "cv2.imshow('Gradient3 image',g3)\n",
    "cv2.waitKey()\n",
    "cv2.destroyAllWindows()"
   ]
  }
 ],
 "metadata": {
  "kernelspec": {
   "display_name": "Python 3 (ipykernel)",
   "language": "python",
   "name": "python3"
  },
  "language_info": {
   "codemirror_mode": {
    "name": "ipython",
    "version": 3
   },
   "file_extension": ".py",
   "mimetype": "text/x-python",
   "name": "python",
   "nbconvert_exporter": "python",
   "pygments_lexer": "ipython3",
   "version": "3.11.5"
  }
 },
 "nbformat": 4,
 "nbformat_minor": 5
}
