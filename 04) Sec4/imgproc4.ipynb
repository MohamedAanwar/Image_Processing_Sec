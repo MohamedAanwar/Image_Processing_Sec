{
 "cells": [
  {
   "cell_type": "code",
   "execution_count": 18,
   "id": "d935b7c6",
   "metadata": {},
   "outputs": [],
   "source": [
    "# import libraries\n",
    "import cv2\n",
    "import numpy as np\n",
    "import warnings\n",
    "warnings.filterwarnings('ignore')"
   ]
  },
  {
   "cell_type": "code",
   "execution_count": 19,
   "id": "852d765d",
   "metadata": {},
   "outputs": [],
   "source": [
    "# read images\n",
    "lena_img=cv2.imread(\"lena.jpg\")\n",
    "cam_img=cv2.imread(\"cameraman.jpg\")\n",
    "pep_img=cv2.imread(\"peppers.jpg\")"
   ]
  },
  {
   "cell_type": "code",
   "execution_count": 20,
   "id": "c6903abe",
   "metadata": {},
   "outputs": [],
   "source": [
    "# Max - Min input img\n",
    "min_in=np.min(lena_img)\n",
    "max_in=np.max(lena_img)\n",
    "\n",
    "# Max - Min input img\n",
    "min_out=0\n",
    "max_out=255"
   ]
  },
  {
   "cell_type": "code",
   "execution_count": 21,
   "id": "fc8af667",
   "metadata": {},
   "outputs": [],
   "source": [
    "# Stretch Equation \n",
    "stretch_img=np.uint8((lena_img-min_in)*((max_out-min_out)/(max_in-min_in)) + max_out)"
   ]
  },
  {
   "cell_type": "code",
   "execution_count": 22,
   "id": "802d873b",
   "metadata": {},
   "outputs": [],
   "source": [
    "# Show Stretch image\n",
    "cv2.imshow('stretch image',stretch_img)\n",
    "cv2.waitKey()\n",
    "cv2.destroyAllWindows()"
   ]
  },
  {
   "cell_type": "code",
   "execution_count": 23,
   "id": "b48d4354",
   "metadata": {},
   "outputs": [],
   "source": [
    "# Thresholding img\n",
    "k=128\n",
    "f,thresh_img=cv2.threshold(lena_img,k,255,cv2.THRESH_BINARY)"
   ]
  },
  {
   "cell_type": "code",
   "execution_count": 44,
   "id": "c2d1e4ef",
   "metadata": {},
   "outputs": [],
   "source": [
    "# Show Thresholding img\n",
    "cv2.imshow('thresh image',thresh_img)\n",
    "cv2.waitKey()\n",
    "cv2.destroyAllWindows()"
   ]
  },
  {
   "cell_type": "code",
   "execution_count": 45,
   "id": "f600614a",
   "metadata": {},
   "outputs": [],
   "source": [
    "# Negtive transform Equation\n",
    "neg_img=255-cam_img"
   ]
  },
  {
   "cell_type": "code",
   "execution_count": 46,
   "id": "a4cc73ff",
   "metadata": {},
   "outputs": [],
   "source": [
    "# Show Negtive img\n",
    "cv2.imshow('Neg image',neg_img)\n",
    "cv2.waitKey()\n",
    "cv2.destroyAllWindows()"
   ]
  },
  {
   "cell_type": "code",
   "execution_count": 47,
   "id": "b7d93d78",
   "metadata": {},
   "outputs": [],
   "source": [
    "# Log transform Equation\n",
    "c=255/np.log(1+np.max(stretch_img))\n",
    "log_img=np.uint8(c*np.log(1+stretch_img))"
   ]
  },
  {
   "cell_type": "code",
   "execution_count": 48,
   "id": "a65fa4c7",
   "metadata": {},
   "outputs": [],
   "source": [
    "# Show Log img\n",
    "cv2.imshow('Log image',log_img)\n",
    "cv2.waitKey()\n",
    "cv2.destroyAllWindows()"
   ]
  },
  {
   "cell_type": "code",
   "execution_count": 49,
   "id": "1f3db158",
   "metadata": {},
   "outputs": [],
   "source": [
    "# Power Equation\n",
    "norm_img=lena_img/255.0\n",
    "gamma=2.2  # Lower than 10\n",
    "\n",
    "power_img=np.power(norm_img,gamma)\n",
    "power_img2=np.uint8(power_img*255)"
   ]
  },
  {
   "cell_type": "code",
   "execution_count": 55,
   "id": "126b2885",
   "metadata": {},
   "outputs": [],
   "source": [
    "# Show Power img\n",
    "cv2.imshow('Power image',power_img2)\n",
    "cv2.waitKey()\n",
    "cv2.destroyAllWindows()"
   ]
  },
  {
   "cell_type": "code",
   "execution_count": 67,
   "id": "92e6a2b4",
   "metadata": {},
   "outputs": [],
   "source": [
    "# Gaussian filter smoothing\n",
    "mask=(9,9)\n",
    "gas_img=cv2.GaussianBlur(cam_img,mask,0)"
   ]
  },
  {
   "cell_type": "code",
   "execution_count": 68,
   "id": "ea3780c2",
   "metadata": {},
   "outputs": [],
   "source": [
    "# Show Gaussian img\n",
    "cv2.imshow('Gaussian image',gas_img)\n",
    "cv2.waitKey()\n",
    "cv2.destroyAllWindows()"
   ]
  },
  {
   "cell_type": "code",
   "execution_count": 69,
   "id": "28ebdedc",
   "metadata": {},
   "outputs": [],
   "source": [
    "# Avg filter smoothing\n",
    "mask2=(9,9)\n",
    "avg_img=cv2.blur(cam_img,mask2)"
   ]
  },
  {
   "cell_type": "code",
   "execution_count": 77,
   "id": "f68f197a",
   "metadata": {},
   "outputs": [],
   "source": [
    "# Show Avg img\n",
    "cv2.imshow('Avg image',avg_img)\n",
    "cv2.waitKey()\n",
    "cv2.destroyAllWindows()"
   ]
  },
  {
   "cell_type": "code",
   "execution_count": 78,
   "id": "8e0c6c7f",
   "metadata": {},
   "outputs": [],
   "source": [
    "# Create filters Sharp\n",
    "f1=np.array([[-1,-1,-1],[-1,9,-1],[-1,-1,-1]])\n",
    "f2=np.array([[1,1,1],[1,-7,1],[1,1,1]])\n",
    "f3=np.array([[0,1,0],[1,-4,1],[0,1,0]])"
   ]
  },
  {
   "cell_type": "code",
   "execution_count": 79,
   "id": "e99ee06b",
   "metadata": {},
   "outputs": [],
   "source": [
    "# Apply filters\n",
    "img_f1=cv2.filter2D(pep_img,-1,f1)\n",
    "img_f2=cv2.filter2D(pep_img,-1,f2)\n",
    "img_f3=cv2.filter2D(pep_img,-1,f3)"
   ]
  },
  {
   "cell_type": "code",
   "execution_count": 80,
   "id": "446ad259",
   "metadata": {},
   "outputs": [],
   "source": [
    "# Show img with filter\n",
    "cv2.imshow('f1 filter',img_f1)\n",
    "cv2.imshow('f2 filter',img_f2)\n",
    "cv2.imshow('f3 filter',img_f3)\n",
    "cv2.waitKey()\n",
    "cv2.destroyAllWindows()"
   ]
  }
 ],
 "metadata": {
  "kernelspec": {
   "display_name": "Python 3 (ipykernel)",
   "language": "python",
   "name": "python3"
  },
  "language_info": {
   "codemirror_mode": {
    "name": "ipython",
    "version": 3
   },
   "file_extension": ".py",
   "mimetype": "text/x-python",
   "name": "python",
   "nbconvert_exporter": "python",
   "pygments_lexer": "ipython3",
   "version": "3.11.5"
  }
 },
 "nbformat": 4,
 "nbformat_minor": 5
}
