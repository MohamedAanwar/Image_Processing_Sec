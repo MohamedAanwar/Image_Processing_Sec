{
 "cells": [
  {
   "cell_type": "code",
   "execution_count": 1,
   "id": "31783d5f",
   "metadata": {},
   "outputs": [],
   "source": [
    "from tkinter import *\n",
    "from tkinter import filedialog\n",
    "from PIL import ImageTk, Image\n",
    "import os"
   ]
  },
  {
   "cell_type": "code",
   "execution_count": 2,
   "id": "08812374",
   "metadata": {},
   "outputs": [],
   "source": [
    "root = Tk()\n",
    "root.title(\"Image Processing GUI\")\n",
    "root.maxsize(900, 600)\n",
    "root.configure(bg=\"skyblue\")\n",
    "\n",
    "left_frame = Frame(root, width=200, height=400, bg='grey')\n",
    "left_frame.grid(row=0, column=0, padx=10, pady=5)\n",
    "\n",
    "right_frame = Frame(root, widt=650, height=400, bg='grey')\n",
    "right_frame.grid(row=0, column=1,padx=10, pady=5)\n",
    "\n",
    "title_label = Label(left_frame, text=\"Original Image\")\n",
    "title_label.grid(row=1, column=0, padx=10, pady=5)\n"
   ]
  },
  {
   "cell_type": "code",
   "execution_count": 3,
   "id": "fa796447",
   "metadata": {},
   "outputs": [],
   "source": [
    "def uploadImg():\n",
    "    filename = filedialog.askopenfilename(initialdir=os.getcwd(), filetypes=((\"JGP File\", \"*.jpg\") , (\"PNG File\", \"*.png\")))\n",
    "    img = Image.open(filename)\n",
    "    img = ImageTk.PhotoImage(img)\n",
    "\n",
    "    img_label = Label(left_frame)\n",
    "    img_label.configure(image= img)\n",
    "    img_label.image = img\n",
    "    img_label.grid(row=0, column=0, padx=10, pady=5)"
   ]
  },
  {
   "cell_type": "code",
   "execution_count": 4,
   "id": "938a6503",
   "metadata": {},
   "outputs": [],
   "source": [
    "select_btn = Button(left_frame, text=\"Select\", command=uploadImg)\n",
    "select_btn.grid(row=2, column=0, padx=10, pady=5)\n",
    "\n",
    "\n",
    "root.mainloop()"
   ]
  }
 ],
 "metadata": {
  "kernelspec": {
   "display_name": "Python 3 (ipykernel)",
   "language": "python",
   "name": "python3"
  },
  "language_info": {
   "codemirror_mode": {
    "name": "ipython",
    "version": 3
   },
   "file_extension": ".py",
   "mimetype": "text/x-python",
   "name": "python",
   "nbconvert_exporter": "python",
   "pygments_lexer": "ipython3",
   "version": "3.11.5"
  }
 },
 "nbformat": 4,
 "nbformat_minor": 5
}
