{
 "cells": [
  {
   "cell_type": "code",
   "execution_count": 1,
   "id": "64a3a0e5",
   "metadata": {},
   "outputs": [],
   "source": [
    "# import lib\n",
    "import cv2 \n",
    "import numpy as np\n",
    "import matplotlib.pyplot as plt\n",
    "from skimage.util import random_noise\n",
    "from PIL import Image,ImageFilter"
   ]
  },
  {
   "cell_type": "code",
   "execution_count": 2,
   "id": "3b34ec6f",
   "metadata": {},
   "outputs": [],
   "source": [
    "# read image and convert to gray scale\n",
    "img=cv2.imread('lena.jpg')\n",
    "img=cv2.cvtColor(img,cv2.COLOR_BGR2GRAY)"
   ]
  },
  {
   "cell_type": "code",
   "execution_count": 3,
   "id": "ff665c13",
   "metadata": {},
   "outputs": [
    {
     "data": {
      "text/plain": [
       "True"
      ]
     },
     "execution_count": 3,
     "metadata": {},
     "output_type": "execute_result"
    }
   ],
   "source": [
    "# get shape and save image\n",
    "img.shape\n",
    "cv2.imwrite('gray_lena.jpg',img)"
   ]
  },
  {
   "cell_type": "code",
   "execution_count": 4,
   "id": "9a5b6549",
   "metadata": {},
   "outputs": [],
   "source": [
    "# Make filters gaussian && S&P\n",
    "img_gauss=random_noise(img,mode='gaussian',mean=0,var=.01)\n",
    "img_gauss=np.uint8(img_gauss*255)\n",
    "img_salt_pepper=random_noise(img,mode='s&p',amount=0)\n",
    "img_salt_pepper=np.uint8(img_salt_pepper*255)"
   ]
  },
  {
   "cell_type": "code",
   "execution_count": 5,
   "id": "4638f085",
   "metadata": {},
   "outputs": [],
   "source": [
    "# Show gaussian image\n",
    "cv2.imshow('gaussian image',img_gauss)\n",
    "cv2.waitKey()\n",
    "cv2.destroyAllWindows()"
   ]
  },
  {
   "cell_type": "code",
   "execution_count": 6,
   "id": "14881380",
   "metadata": {},
   "outputs": [],
   "source": [
    "# Show s&p image\n",
    "cv2.imshow('s&p image',img_gauss)\n",
    "cv2.waitKey()\n",
    "cv2.destroyAllWindows()"
   ]
  },
  {
   "cell_type": "code",
   "execution_count": 7,
   "id": "e54a07ee",
   "metadata": {},
   "outputs": [],
   "source": [
    "# Make filters med && box\n",
    "img_med=cv2.medianBlur(img_salt_pepper,5)\n",
    "img_box=cv2.boxFilter(img_salt_pepper,-1,(5,5))"
   ]
  },
  {
   "cell_type": "code",
   "execution_count": 8,
   "id": "de37bb2f",
   "metadata": {},
   "outputs": [],
   "source": [
    "# Show image with med filter\n",
    "cv2.imshow('med image',img_med)\n",
    "cv2.waitKey()\n",
    "cv2.destroyAllWindows()"
   ]
  },
  {
   "cell_type": "code",
   "execution_count": 9,
   "id": "955e61b6",
   "metadata": {},
   "outputs": [],
   "source": [
    "# Show image with box filter\n",
    "cv2.imshow('box image',img_box)\n",
    "cv2.waitKey()\n",
    "cv2.destroyAllWindows()"
   ]
  },
  {
   "cell_type": "code",
   "execution_count": 10,
   "id": "8324e8f4",
   "metadata": {},
   "outputs": [],
   "source": [
    "# Make filters min && max\n",
    "lena=Image.open('lena_color.jpg')"
   ]
  },
  {
   "cell_type": "code",
   "execution_count": 11,
   "id": "1c554fcc",
   "metadata": {},
   "outputs": [],
   "source": [
    "# max filter\n",
    "lena_max=lena.filter(ImageFilter.MaxFilter(3))\n",
    "lena_max.save('lena_max.jpg')"
   ]
  },
  {
   "cell_type": "code",
   "execution_count": 12,
   "id": "4882c46c",
   "metadata": {},
   "outputs": [],
   "source": [
    "# min filter\n",
    "lena_min=lena.filter(ImageFilter.MinFilter(3))\n",
    "lena_min.save('lena_min.jpg')"
   ]
  },
  {
   "cell_type": "code",
   "execution_count": 13,
   "id": "24f4745a",
   "metadata": {},
   "outputs": [],
   "source": [
    "# read image and convert to gray scale\n",
    "img3=cv2.imread('cameraman.jpg')\n",
    "img3=cv2.cvtColor(img3,cv2.COLOR_BGR2GRAY)"
   ]
  },
  {
   "cell_type": "code",
   "execution_count": 14,
   "id": "106ee322",
   "metadata": {},
   "outputs": [
    {
     "data": {
      "text/plain": [
       "(320, 320)"
      ]
     },
     "execution_count": 14,
     "metadata": {},
     "output_type": "execute_result"
    }
   ],
   "source": [
    "# get shape\n",
    "img3.shape"
   ]
  },
  {
   "cell_type": "code",
   "execution_count": 15,
   "id": "08627ea0",
   "metadata": {},
   "outputs": [],
   "source": [
    "# Canny filter\n",
    "img_canny=cv2.Canny(img3,50,100)"
   ]
  },
  {
   "cell_type": "code",
   "execution_count": 16,
   "id": "e843ab44",
   "metadata": {},
   "outputs": [],
   "source": [
    "# Show canny image\n",
    "cv2.imshow('canny image',img_canny)\n",
    "cv2.waitKey()\n",
    "cv2.destroyAllWindows()"
   ]
  },
  {
   "cell_type": "code",
   "execution_count": 17,
   "id": "fa4c31b4",
   "metadata": {},
   "outputs": [],
   "source": [
    "# Sobel filter\n",
    "img_soblex=cv2.Sobel(img3,-1,1,0)\n",
    "img_sobley=cv2.Sobel(img3,-1,0,1)\n",
    "img_soblexy=cv2.addWeighted(img_soblex,1,img_sobley,1,0)"
   ]
  },
  {
   "cell_type": "code",
   "execution_count": 18,
   "id": "4d1edee5",
   "metadata": {},
   "outputs": [],
   "source": [
    "# Show sobelx image\n",
    "cv2.imshow('sobelx image',img_soblex)\n",
    "cv2.waitKey()\n",
    "cv2.destroyAllWindows()"
   ]
  },
  {
   "cell_type": "code",
   "execution_count": 19,
   "id": "ecd5a3ad",
   "metadata": {},
   "outputs": [],
   "source": [
    "# Show sobely image\n",
    "cv2.imshow('sobely image',img_sobley)\n",
    "cv2.waitKey()\n",
    "cv2.destroyAllWindows()"
   ]
  },
  {
   "cell_type": "code",
   "execution_count": 20,
   "id": "6cb18239",
   "metadata": {},
   "outputs": [],
   "source": [
    "# Show sobelxy image\n",
    "cv2.imshow('sobelxy image',img_soblexy)\n",
    "cv2.waitKey()\n",
    "cv2.destroyAllWindows()"
   ]
  }
 ],
 "metadata": {
  "kernelspec": {
   "display_name": "Python 3 (ipykernel)",
   "language": "python",
   "name": "python3"
  },
  "language_info": {
   "codemirror_mode": {
    "name": "ipython",
    "version": 3
   },
   "file_extension": ".py",
   "mimetype": "text/x-python",
   "name": "python",
   "nbconvert_exporter": "python",
   "pygments_lexer": "ipython3",
   "version": "3.11.5"
  }
 },
 "nbformat": 4,
 "nbformat_minor": 5
}
